{
 "cells": [
  {
   "cell_type": "code",
   "execution_count": 1,
   "metadata": {},
   "outputs": [],
   "source": [
    "import os \n",
    "from os.path import join\n",
    "import pandas as pd\n",
    "import numpy as np"
   ]
  },
  {
   "cell_type": "code",
   "execution_count": 2,
   "metadata": {},
   "outputs": [],
   "source": [
    "log_dir    = \"/home/rantanplan/Documents/Paris/HEART_PPI/heart_logs/\"\n",
    "\n",
    "\n",
    "mapping = dict(GS248=\"sub_01\",\n",
    "               CM249=\"sub_02\",\n",
    "               WT250=\"sub_03\",\n",
    "               XA251=\"sub_04\",\n",
    "               GS252=\"sub_05\",\n",
    "               LT253=\"sub_06\",\n",
    "               MU254=\"sub_07\",\n",
    "               CG255=\"sub_08\",\n",
    "               PJ256=\"sub_09\",\n",
    "               EM257=\"sub_10\",\n",
    "               YJ258=\"sub_11\",\n",
    "               GA259=\"sub_12\",\n",
    "               AF260=\"sub_13\",\n",
    "               MT261=\"sub_14\",\n",
    "               CL262=\"sub_15\",\n",
    "               CG263=\"sub_16\",\n",
    "               TW265=\"sub_17\",\n",
    "               BP267=\"sub_18\",\n",
    "               CS268=\"sub_19\",\n",
    "               TC269=\"sub_20\")"
   ]
  },
  {
   "cell_type": "code",
   "execution_count": 3,
   "metadata": {},
   "outputs": [],
   "source": [
    "def reaction_time_df(log):\n",
    "    # Extract feedback and response from key press lines in the log file\n",
    "    data          =[]\n",
    "    condition     =[]\n",
    "    responses     =[]\n",
    "    corrects      =[]\n",
    "    response_time =[]\n",
    "    probe_time    =[]\n",
    "    reaction_time =[]\n",
    "    subject       =[]\n",
    "\n",
    "    with open(log,\"r\") as file:\n",
    "        for line in file:\n",
    "            data.append(line)\n",
    "\n",
    "    for ii in range(len(data)):\n",
    "\n",
    "        if ('MINEOTHER' in data[ii]) and ('Finished' in data[ii]): # Get file line with response data\n",
    "            summ_line = data[ii].replace(\"\\n\",\"\").rsplit(\"\\t\")\n",
    "\n",
    "            response = summ_line[-1].rsplit(\" \")[-1]\n",
    "            responses.append(response) # Extract subject response(1=Mine, 2=Other)\n",
    "\n",
    "            feedback = summ_line[-1].rsplit(\" \")[0].rsplit(\"-\")[-1]\n",
    "            condition.append(feedback) # Extract feedback condition\n",
    "\n",
    "\n",
    "            if (feedback == 'SYNC' and response == '1') or (feedback == 'OSYNC' and response == '2') :\n",
    "                corrects.append(\"correct\")\n",
    "            else:\n",
    "                corrects.append(\"wrong\")\n",
    "\n",
    "            response_time.append((data[ii-2]).split(\"\\t\")[0]) # Extract response time\n",
    "\n",
    "            index_minus = 0 # Move backwards and find when probing was presented\n",
    "            while True:\n",
    "                if 'Stim' in data[ii-2-index_minus]:\n",
    "                    probe_time.append((data[ii-2-index_minus]).rsplit(\"\\t\")[0])\n",
    "                    break\n",
    "                else:\n",
    "                    index_minus = index_minus + 1\n",
    "\n",
    "            reaction_time = [x1 - x2 for (x1, x2) in zip(np.float_(response_time), np.float_(probe_time))] \n",
    "\n",
    "    subject = [mapping[log[-12:-7]] for i in range(len(reaction_time))]\n",
    "\n",
    "\n",
    "    results = pd.DataFrame()\n",
    "    results['Subject'] = subject\n",
    "    results['Condition']= condition\n",
    "    results['Response'] = responses\n",
    "    results['Corrects'] = corrects\n",
    "    results['RT'] = reaction_time\n",
    "\n",
    "    return results\n",
    "\n",
    "\n",
    "            "
   ]
  },
  {
   "cell_type": "code",
   "execution_count": 5,
   "metadata": {},
   "outputs": [
    {
     "name": "stdout",
     "output_type": "stream",
     "text": [
      "   Subject Condition Response Corrects      RT\n",
      "0   sub_09      SYNC        1  correct  4.1094\n",
      "1   sub_09     OSYNC        1    wrong  0.9994\n",
      "2   sub_09      SYNC        1  correct  4.3100\n",
      "3   sub_09     OSYNC        2  correct  3.6967\n",
      "4   sub_09      SYNC        2    wrong  1.0787\n",
      "..     ...       ...      ...      ...     ...\n",
      "20  sub_19      SYNC        2    wrong  0.5713\n",
      "21  sub_19      SYNC        2    wrong  1.8709\n",
      "22  sub_19      SYNC        1  correct  0.8093\n",
      "23  sub_19      SYNC        2    wrong  0.3807\n",
      "24  sub_19     OSYNC        1    wrong  2.0794\n",
      "\n",
      "[488 rows x 5 columns]\n"
     ]
    }
   ],
   "source": [
    "df = []\n",
    "for log in os.listdir(log_dir):\n",
    "    if log.endswith(\"log\"):\n",
    "        results = reaction_time_df(join(log_dir,log))\n",
    "        df.append(results)\n",
    "df = pd.concat(df)\n",
    "print(df)\n",
    "df.to_csv(join(log_dir,\"HEART_reaction_time.csv\"),index = False, header=True)\n",
    "\n",
    "\n",
    "        "
   ]
  }
 ],
 "metadata": {
  "kernelspec": {
   "display_name": "Python 3",
   "language": "python",
   "name": "python3"
  },
  "language_info": {
   "codemirror_mode": {
    "name": "ipython",
    "version": 3
   },
   "file_extension": ".py",
   "mimetype": "text/x-python",
   "name": "python",
   "nbconvert_exporter": "python",
   "pygments_lexer": "ipython3",
   "version": "3.8.5"
  }
 },
 "nbformat": 4,
 "nbformat_minor": 4
}
