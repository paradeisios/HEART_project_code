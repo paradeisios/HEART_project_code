{
 "cells": [
  {
   "cell_type": "code",
   "execution_count": 2,
   "metadata": {},
   "outputs": [],
   "source": [
    "import os \n",
    "from os.path import join,abspath\n",
    "import scipy.io as sio\n",
    "import numpy as np\n",
    "\n",
    "from utils.get_feedback_blocks import get_feedback_blocks\n",
    "from utils.get_response_onsets import get_response_onsets\n"
   ]
  },
  {
   "cell_type": "code",
   "execution_count": 4,
   "metadata": {},
   "outputs": [],
   "source": [
    "log_dir      = \"/home/rantanplan/Documents/Paris/HEART_PPI/heart_logs/\"\n",
    "mat_dir      = \"/home/rantanplan/Documents/Paris/HEART_PPI/heart_vectors/\"\n",
    "onset_dir    = \"/home/rantanplan/Documents/Paris/HEART_PPI/heart_vectors/RESPONSE/\"\n",
    "feedback_dir = \"/home/rantanplan/Documents/Paris/HEART_PPI/heart_vectors/FEEDBACK/\"\n",
    "\n",
    "mapping = dict(GS248=\"sub_01\",\n",
    "               CM249=\"sub_02\",\n",
    "               WT250=\"sub_03\",\n",
    "               XA251=\"sub_04\",\n",
    "               GS252=\"sub_05\",\n",
    "               LT253=\"sub_06\",\n",
    "               MU254=\"sub_07\",\n",
    "               CG255=\"sub_08\",\n",
    "               PJ256=\"sub_09\",\n",
    "               EM257=\"sub_10\",\n",
    "               YJ258=\"sub_11\",\n",
    "               GA259=\"sub_12\",\n",
    "               AF260=\"sub_13\",\n",
    "               MT261=\"sub_14\",\n",
    "               CL262=\"sub_15\",\n",
    "               CG263=\"sub_16\",\n",
    "               TW265=\"sub_17\",\n",
    "               BP267=\"sub_18\",\n",
    "               CS268=\"sub_19\",\n",
    "               TC269=\"sub_20\")\n"
   ]
  },
  {
   "cell_type": "code",
   "execution_count": 3,
   "metadata": {},
   "outputs": [
    {
     "ename": "FileNotFoundError",
     "evalue": "[Errno 2] No such file or directory: '/home/rantanplan/Documents/Paris/HEART_PPI/heart_logs/'",
     "output_type": "error",
     "traceback": [
      "\u001b[0;31m---------------------------------------------------------------------------\u001b[0m",
      "\u001b[0;31mFileNotFoundError\u001b[0m                         Traceback (most recent call last)",
      "\u001b[0;32m<ipython-input-3-6be4a543a4ca>\u001b[0m in \u001b[0;36m<module>\u001b[0;34m\u001b[0m\n\u001b[1;32m      1\u001b[0m \u001b[0;31m### Loop through folder with logfiles and extract onset times for the response (MINE / OTHER) events\u001b[0m\u001b[0;34m\u001b[0m\u001b[0;34m\u001b[0m\u001b[0;34m\u001b[0m\u001b[0m\n\u001b[0;32m----> 2\u001b[0;31m \u001b[0;32mfor\u001b[0m \u001b[0mlog\u001b[0m \u001b[0;32min\u001b[0m \u001b[0mos\u001b[0m\u001b[0;34m.\u001b[0m\u001b[0mlistdir\u001b[0m\u001b[0;34m(\u001b[0m\u001b[0mlog_dir\u001b[0m\u001b[0;34m)\u001b[0m\u001b[0;34m:\u001b[0m\u001b[0;34m\u001b[0m\u001b[0;34m\u001b[0m\u001b[0m\n\u001b[0m\u001b[1;32m      3\u001b[0m     \u001b[0;32mif\u001b[0m \u001b[0mlog\u001b[0m\u001b[0;34m.\u001b[0m\u001b[0mendswith\u001b[0m\u001b[0;34m(\u001b[0m\u001b[0;34m\".log\"\u001b[0m\u001b[0;34m)\u001b[0m\u001b[0;34m:\u001b[0m\u001b[0;34m\u001b[0m\u001b[0;34m\u001b[0m\u001b[0m\n\u001b[1;32m      4\u001b[0m \u001b[0;34m\u001b[0m\u001b[0m\n\u001b[1;32m      5\u001b[0m         \u001b[0mlog_file\u001b[0m \u001b[0;34m=\u001b[0m \u001b[0mjoin\u001b[0m\u001b[0;34m(\u001b[0m\u001b[0mlog_dir\u001b[0m\u001b[0;34m,\u001b[0m \u001b[0mlog\u001b[0m\u001b[0;34m)\u001b[0m\u001b[0;34m\u001b[0m\u001b[0;34m\u001b[0m\u001b[0m\n",
      "\u001b[0;31mFileNotFoundError\u001b[0m: [Errno 2] No such file or directory: '/home/rantanplan/Documents/Paris/HEART_PPI/heart_logs/'"
     ]
    }
   ],
   "source": [
    "### Loop through folder with logfiles and extract onset times for the response (MINE / OTHER) events\n",
    "for log in os.listdir(log_dir):\n",
    "    if log.endswith(\".log\"):\n",
    "        \n",
    "        log_file = join(log_dir, log)\n",
    "        output_name = join(onset_dir, mapping[log[:5]]+ \"_response_onsets.mat\")\n",
    "        \n",
    "        onsets = get_response_onsets(log_dir+log)\n",
    "        sio.savemat(output_name,{\"responses\":onsets})"
   ]
  },
  {
   "cell_type": "code",
   "execution_count": 7,
   "metadata": {},
   "outputs": [],
   "source": [
    "### Loop through folder with mat files and extract onsets and durations for each of the two\n",
    "### feedback conditions (Synchronous / Asynchronous)\n",
    "\n",
    "for root, dirs, files in os.walk(mat_dir):\n",
    "    for name in files:\n",
    "        mat = join(root, name)\n",
    "        print(mat)\n",
    "        if mat.endswith(\".mat\"):\n",
    "            mat_file = sio.loadmat(mat)\n",
    "\n",
    "            if \"task_type\" in mat_file.keys():\n",
    "                if 'MINEOTHER' in mat_file[\"task_type\"]:\n",
    "\n",
    "                    blocks = get_feedback_blocks(mat)\n",
    "                    print(blocks[\"name\"])\n",
    "                    print(blocks[\"sync_onset\"], \"----- Len: {}\".format(len(blocks[\"sync_onset\"])))\n",
    "                    print(blocks[\"sync_duration\"],\"----- Len: {}\".format(len(blocks[\"sync_duration\"])))\n",
    "                    print(blocks[\"async_onset\"],\"----- Len: {}\".format(len(blocks[\"async_onset\"])))\n",
    "                    print(blocks[\"async_duration\"],\"----- Len: {}\".format(len(blocks[\"async_duration\"])))\n",
    "                    output_name = join(feedback_dir, mapping[mat[-9:-7]+mat[-12:-9]]+ \"_feedback.mat\")\n",
    "                    print(output_name+ \"\\n\")\n",
    "                    sio.savemat(output_name,{\"feedback\":blocks})"
   ]
  },
  {
   "cell_type": "code",
   "execution_count": 5,
   "metadata": {},
   "outputs": [
    {
     "data": {
      "text/plain": [
       "{'subject': 'GS248',\n",
       " 'mine_onset': [201.3009,\n",
       "  272.4932,\n",
       "  320.5922,\n",
       "  387.2606,\n",
       "  414.7464,\n",
       "  555.3686,\n",
       "  600.7513,\n",
       "  653.2445,\n",
       "  702.1972,\n",
       "  815.9576,\n",
       "  837.2979,\n",
       "  864.1482,\n",
       "  892.8087,\n",
       "  924.8669,\n",
       "  966.3765,\n",
       "  1004.4843,\n",
       "  1033.6052],\n",
       " 'other_onset': [167.2902,\n",
       "  235.9729,\n",
       "  357.9491,\n",
       "  453.4357,\n",
       "  490.4127,\n",
       "  523.1378,\n",
       "  737.1252,\n",
       "  772.959]}"
      ]
     },
     "execution_count": 5,
     "metadata": {},
     "output_type": "execute_result"
    }
   ],
   "source": [
    "log =log_dir + \"GS248_01.log\"\n",
    "get_response_onsets(log)"
   ]
  }
 ],
 "metadata": {
  "kernelspec": {
   "display_name": "Python 3",
   "language": "python",
   "name": "python3"
  },
  "language_info": {
   "codemirror_mode": {
    "name": "ipython",
    "version": 3
   },
   "file_extension": ".py",
   "mimetype": "text/x-python",
   "name": "python",
   "nbconvert_exporter": "python",
   "pygments_lexer": "ipython3",
   "version": "3.8.5"
  }
 },
 "nbformat": 4,
 "nbformat_minor": 4
}
