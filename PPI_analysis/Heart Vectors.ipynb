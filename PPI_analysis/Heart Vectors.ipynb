{
 "cells": [
  {
   "cell_type": "code",
   "execution_count": 2,
   "metadata": {},
   "outputs": [],
   "source": [
    "import os \n",
    "from os.path import join\n",
    "import scipy.io as sio\n",
    "import numpy as np\n",
    "\n",
    "from utils import get_response_onsets, get_feedback_blocks"
   ]
  },
  {
   "cell_type": "code",
   "execution_count": 187,
   "metadata": {},
   "outputs": [],
   "source": [
    "log_dir =   \"/home/paradeisios/Desktop/logs/\"\n",
    "mat_dir =   \"/home/paradeisios/Desktop/sub-01/\"\n",
    "onset_dir = \"/home/paradeisios/Desktop/onsets/\"\n",
    "feedback_dir = \"/home/paradeisios/Desktop/feedback/\"\n",
    "\n",
    "mapping = dict(GS248=\"sub_01\",\n",
    "               CM249=\"sub_02\",\n",
    "               WT250=\"sub_03\",\n",
    "               XA251=\"sub_04\",\n",
    "               GS252=\"sub_05\",\n",
    "               LT253=\"sub_06\",\n",
    "               MU254=\"sub_07\",\n",
    "               CG255=\"sub_08\",\n",
    "               PJ256=\"sub_09\",\n",
    "               EM257=\"sub_10\",\n",
    "               YJ258=\"sub_11\",\n",
    "               GA259=\"sub_12\",\n",
    "               AF260=\"sub_13\",\n",
    "               MT261=\"sub_14\",\n",
    "               CL262=\"sub_15\",\n",
    "               CG263=\"sub_16\",\n",
    "               TW265=\"sub_17\",\n",
    "               BP267=\"sub_18\",\n",
    "               CS268=\"sub_19\",\n",
    "               TC269=\"sub_20\")"
   ]
  },
  {
   "cell_type": "code",
   "execution_count": 148,
   "metadata": {},
   "outputs": [],
   "source": []
  },
  {
   "cell_type": "code",
   "execution_count": 149,
   "metadata": {},
   "outputs": [],
   "source": [
    "### Loop through folder with logfiles and extract onset times for the response (MINE / OTHER) events\n",
    "for log in os.listdir(log_dir):\n",
    "    if log.endswith(\".log\"):\n",
    "        \n",
    "        log_file = join(log_dir, log)\n",
    "        output_name = join(onset_dir, mapping[log[:5]]+ \"_response_onsets.mat\")\n",
    "        \n",
    "        onsets = get_subject_onsets(log_dir+log)\n",
    "        sio.savemat(output_name,{\"response_onsets\":onsets})"
   ]
  },
  {
   "cell_type": "code",
   "execution_count": 156,
   "metadata": {},
   "outputs": [],
   "source": []
  },
  {
   "cell_type": "code",
   "execution_count": 188,
   "metadata": {},
   "outputs": [],
   "source": [
    "### Loop through folder with mat files and extract onsets and durations for each of the two\n",
    "### feedback conditions (Synchronous / Asynchronous)\n",
    "\n",
    "for mat in os.listdir(mat_dir):\n",
    "    \n",
    "    if mat.endswith(\".mat\"):\n",
    "        mat_file = sio.loadmat(join(mat_dir,mat))\n",
    "        \n",
    "        if \"task_type\" in mat_file.keys():\n",
    "            if 'MINEOTHER' in mat_file[\"task_type\"]:\n",
    "\n",
    "                blocks = get_feedback_onsets(join(mat_dir,mat))\n",
    "                output_name = join(feedback_dir, mapping[mat[-9:-7]+mat[-12:-9]]+ \"_feedback.mat\")\n",
    "                sio.savemat(output_name,{\"feedback\":blocks})\n",
    "            \n",
    "            \n",
    "    "
   ]
  }
 ],
 "metadata": {
  "kernelspec": {
   "display_name": "Python 3",
   "language": "python",
   "name": "python3"
  },
  "language_info": {
   "codemirror_mode": {
    "name": "ipython",
    "version": 3
   },
   "file_extension": ".py",
   "mimetype": "text/x-python",
   "name": "python",
   "nbconvert_exporter": "python",
   "pygments_lexer": "ipython3",
   "version": "3.8.5"
  }
 },
 "nbformat": 4,
 "nbformat_minor": 4
}
